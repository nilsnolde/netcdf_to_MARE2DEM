{
 "cells": [
  {
   "cell_type": "markdown",
   "metadata": {},
   "source": [
    "Let´s try to get netCDF4 started!"
   ]
  },
  {
   "cell_type": "code",
   "execution_count": 2,
   "metadata": {
    "collapsed": true
   },
   "outputs": [],
   "source": [
    "from netCDF4 import Dataset\n",
    "import os"
   ]
  },
  {
   "cell_type": "code",
   "execution_count": 10,
   "metadata": {
    "collapsed": false
   },
   "outputs": [],
   "source": [
    "nc_dir = r\"C:\\Users\\nnolde\\Documents\\Python27\\Projects\\EM\\MARE2DEM\\Rotated\"\n",
    "ex_nc = None\n",
    "for fd, sub, files in os.walk(nc_dir):\n",
    "    for f in files[1:2]:\n",
    "        ex_nc = Dataset(os.path.join(fd, f))"
   ]
  },
  {
   "cell_type": "markdown",
   "metadata": {},
   "source": [
    "### Attributes"
   ]
  },
  {
   "cell_type": "code",
   "execution_count": 11,
   "metadata": {
    "collapsed": false
   },
   "outputs": [
    {
     "name": "stdout",
     "output_type": "stream",
     "text": [
      "version\n",
      "prochist\n",
      "loghist\n",
      "logid\n",
      "surveyid\n",
      "jobid\n",
      "recid\n",
      "lineid\n",
      "domain\n",
      "coilid\n",
      "x_r\n",
      "y_r\n",
      "z_r\n",
      "psi\n",
      "phi\n",
      "theta\n",
      "psi_uncertainty\n",
      "phi_uncertainty\n",
      "theta_uncertainty\n",
      "receiver_heading\n",
      "sigma_f\n",
      "dataset_date\n",
      "dataset_author\n",
      "dlength\n",
      "geodetic_datum\n",
      "projection_type\n",
      "projection_zone\n",
      "long_of_central_meridian\n",
      "grid_origin\n",
      "grid_coord_at_origin\n",
      "scale_factor\n",
      "scale_factor_long_lat\n",
      "planned_vessel_speed\n",
      "format_type\n",
      "t0_emgs\n",
      "t0_unix\n",
      "nf\n",
      "freqs\n",
      "dx1\n",
      "dx2\n",
      "dk1\n",
      "dk2\n",
      "dt\n",
      "clock_drift_ppb\n",
      "approx_source_heading\n"
     ]
    }
   ],
   "source": [
    "for attr in ex_nc.ncattrs():\n",
    "    print attr"
   ]
  },
  {
   "cell_type": "markdown",
   "metadata": {},
   "source": [
    "### Variables"
   ]
  },
  {
   "cell_type": "code",
   "execution_count": 12,
   "metadata": {
    "collapsed": false
   },
   "outputs": [
    {
     "name": "stdout",
     "output_type": "stream",
     "text": [
      "grid\n",
      "jsrc\n",
      "srcpos\n",
      "jsrc_noise\n",
      "jsrc_mask\n",
      "sigma_c\n",
      "time\n",
      "emf\n",
      "emf_noise\n",
      "emf_mask\n"
     ]
    }
   ],
   "source": [
    "for var in ex_nc.variables:\n",
    "    print var"
   ]
  },
  {
   "cell_type": "code",
   "execution_count": 13,
   "metadata": {
    "collapsed": false
   },
   "outputs": [
    {
     "name": "stdout",
     "output_type": "stream",
     "text": [
      "[ 0.11160714  0.33482143  0.55803573  0.78125     1.00446427  1.22767854\n",
      "  1.45089281  1.67410719  1.89732146  2.12053561]\n"
     ]
    }
   ],
   "source": [
    "print ex_nc.getncattr('freqs')"
   ]
  },
  {
   "cell_type": "code",
   "execution_count": null,
   "metadata": {
    "collapsed": true
   },
   "outputs": [],
   "source": []
  }
 ],
 "metadata": {
  "kernelspec": {
   "display_name": "Python 2",
   "language": "python",
   "name": "python2"
  },
  "language_info": {
   "codemirror_mode": {
    "name": "ipython",
    "version": 2
   },
   "file_extension": ".py",
   "mimetype": "text/x-python",
   "name": "python",
   "nbconvert_exporter": "python",
   "pygments_lexer": "ipython2",
   "version": "2.7.13"
  }
 },
 "nbformat": 4,
 "nbformat_minor": 2
}
