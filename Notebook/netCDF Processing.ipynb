{
 "cells": [
  {
   "cell_type": "code",
   "execution_count": 2,
   "metadata": {
    "collapsed": true
   },
   "outputs": [],
   "source": [
    "import os\n",
    "import numpy as np\n",
    "\n",
    "from emtools import BaseClasses"
   ]
  },
  {
   "cell_type": "code",
   "execution_count": 3,
   "metadata": {
    "collapsed": false
   },
   "outputs": [],
   "source": [
    "nc_dir = r\"C:\\Users\\nnolde\\Documents\\Python27\\Projects\\EM\\MARE2DEM\\Rotated\"\n",
    "ex_nc = None\n",
    "nc_list = []\n",
    "nc_names = []\n",
    "with open(os.path.join(nc_dir, '01Rx001a_Rotated.cdl')) as r:\n",
    "\n",
    "    for fd, sub, files in os.walk(nc_dir):\n",
    "        for f in files:\n",
    "            if f.endswith('.nc'):\n",
    "                ex_nc = BaseClasses.nc(os.path.join(nc_dir, f), 'r')\n",
    "                nc_list.append(ex_nc)\n",
    "                nc_names.append(f)"
   ]
  },
  {
   "cell_type": "markdown",
   "metadata": {},
   "source": [
    "# Start the .emdata definition"
   ]
  },
  {
   "cell_type": "code",
   "execution_count": 4,
   "metadata": {
    "collapsed": false
   },
   "outputs": [],
   "source": [
    "out_dir = r'C:\\Users\\nnolde\\Documents\\Python27\\Projects\\EM\\MARE2DEM\\emdata\\{}'.format(nc_names[0])"
   ]
  },
  {
   "cell_type": "code",
   "execution_count": 84,
   "metadata": {
    "collapsed": false
   },
   "outputs": [
    {
     "name": "stdout",
     "output_type": "stream",
     "text": [
      "version: 1.1.0\n",
      "logid: unknown\n",
      "surveyid: STOS\n",
      "jobid: unknown\n",
      "recid: 01Rx001a\n",
      "lineid: 01Tx002a\n",
      "domain: frequency\n",
      "coilid: unknown\n",
      "x_r: 1.63349e+06\n",
      "y_r: 5.61939e+06\n",
      "z_r: 109.4\n",
      "psi: 0.0\n",
      "phi: 44.2604\n",
      "theta: 0.0\n",
      "psi_uncertainty: 0.0\n",
      "phi_uncertainty: 3.0\n",
      "theta_uncertainty: 0.0\n",
      "receiver_heading: -1000.0\n",
      "sigma_f: 0.0\n",
      "dataset_date: Jan Feb 2011\n",
      "dataset_author: Oystein Hallanger-Martin Hansen\n",
      "dlength: 270.52\n",
      "geodetic_datum: unknown\n",
      "projection_type: transverse_mercator_north_oriented\n",
      "projection_zone: unknown\n",
      "long_of_central_meridian: 173deg 00min 00.000sec E\n",
      "grid_origin: 000deg 00min 00.000sec N,   173deg 00min 00.000sec E\n",
      "grid_coord_at_origin: 1600000.00E,  10000000.00N\n",
      "scale_factor: unknown\n",
      "scale_factor_long_lat: 0.99960000000000004\n",
      "planned_vessel_speed: 2.00 kts\n",
      "format_type: complex_demod\n",
      "t0_emgs: 17-01-2011 08:35:43\n",
      "t0_unix: 1295253343.0\n",
      "nf: 10\n",
      "freqs: [ 0.11160714  0.33482143  0.55803573  0.78125     1.00446427  1.22767854\n",
      "  1.45089281  1.67410719  1.89732146  2.12053561]\n",
      "dx1: 0.0\n",
      "dx2: 0.0\n",
      "dk1: 0.0\n",
      "dk2: 0.0\n",
      "dt: 0.02\n",
      "clock_drift_ppb: 58.0631\n",
      "approx_source_heading: 44.2604\n",
      "None\n"
     ]
    }
   ],
   "source": [
    "ex_nc = nc_list[0]\n",
    "print ex_nc.printAttrs()"
   ]
  },
  {
   "cell_type": "markdown",
   "metadata": {},
   "source": [
    "## Header"
   ]
  },
  {
   "cell_type": "code",
   "execution_count": 160,
   "metadata": {
    "collapsed": false
   },
   "outputs": [],
   "source": [
    "rx_x = ex_nc.x_r\n",
    "rx_y = ex_nc.y_r\n",
    "src_hd = float(ex_nc.approx_source_heading)\n",
    "\n",
    "str_out = \"\"\"Format:  EMData_2.2\n",
    "!real\n",
    "UTM of x,y origin (UTM zone, N, E, 2D strike): 0 N{0:>13.10g}{1:>13.10g}{2:>7.5g}\n",
    "Phase Convention: lag\n",
    "Reciprocity Used:\"\"\".format(rx_x, rx_y, src_hd - 90)"
   ]
  },
  {
   "cell_type": "markdown",
   "metadata": {},
   "source": [
    "## Frequencies"
   ]
  },
  {
   "cell_type": "code",
   "execution_count": 161,
   "metadata": {
    "collapsed": false
   },
   "outputs": [],
   "source": [
    "freqs_amount = len(ex_nc.freqs)\n",
    "\n",
    "str_out += \"\"\"\n",
    "# CSEM Frequencies:    {0}\n",
    "{1}\"\"\".format(freqs_amount, \"\\n\".join([str(x) for x in ex_nc.freqs]))"
   ]
  },
  {
   "cell_type": "markdown",
   "metadata": {},
   "source": [
    "## Transmitters"
   ]
  },
  {
   "cell_type": "code",
   "execution_count": 162,
   "metadata": {
    "collapsed": false
   },
   "outputs": [
    {
     "name": "stdout",
     "output_type": "stream",
     "text": [
      "x y z wd hd _\n",
      "[[  1.62624438e+06   5.61192800e+06   1.06417713e+01   1.15933388e+02\n",
      "    4.22444916e+01   9.96920997e+36]]\n"
     ]
    }
   ],
   "source": [
    "src_pos = ex_nc.variables['srcpos']\n",
    "tx_id = ex_nc.lineid\n",
    "print ex_nc.variables['srcpos'].srcpos_direction\n",
    "print src_pos[:1]"
   ]
  },
  {
   "cell_type": "code",
   "execution_count": 163,
   "metadata": {
    "collapsed": false
   },
   "outputs": [],
   "source": [
    "str_out += \"\"\"\n",
    "# Transmitters:   1\n",
    "!          X            Y            Z Azimuth     Dip  Length    Type  Name \n",
    "{0:>12.10g}{1:>13.10g}{2:13.10g}{3:>8.6g}{4:>8.6g}{5:>8.6g}{6:>9}{7:>5}\"\"\".format(src_pos[0][0],\n",
    "                                                                                 src_pos[0][1],\n",
    "                                                                                 src_pos[0][2],\n",
    "                                                                                 src_hd,\n",
    "                                                                                 0.00,\n",
    "                                                                                 ex_nc.dlength,\n",
    "                                                                                 \"edipole\",\n",
    "                                                                                 ex_nc.lineid[-3:])"
   ]
  },
  {
   "cell_type": "markdown",
   "metadata": {},
   "source": [
    "## Receivers"
   ]
  },
  {
   "cell_type": "code",
   "execution_count": 164,
   "metadata": {
    "collapsed": false
   },
   "outputs": [],
   "source": [
    "str_out += \"\"\"\n",
    "# CSEM Receivers:      {}\n",
    "!          X            Y            Z   Theta   Alpha    Beta  Length  Name\"\"\".format(len(nc_list))\n",
    "\n",
    "for rx in nc_list:\n",
    "    str_out += \"\"\"\n",
    "{0:>12.10g}{1:>13.10g}{2:>13.10g}{3:>8}{4:>8}{5:>8}{6:>8}{7:>6}\"\"\".format(float(rx.x_r),\n",
    "                                                                                   float(rx.y_r),\n",
    "                                                                                   float(rx.z_r),\n",
    "                                                                                   \"0.00\",\n",
    "                                                                                   \"0.00\",\n",
    "                                                                                   \"0.00\",\n",
    "                                                                                   \"0.00\",\n",
    "                                                                                   rx.recid[-3:])"
   ]
  },
  {
   "cell_type": "markdown",
   "metadata": {},
   "source": [
    "## Data"
   ]
  },
  {
   "cell_type": "code",
   "execution_count": null,
   "metadata": {
    "collapsed": true
   },
   "outputs": [],
   "source": []
  },
  {
   "cell_type": "markdown",
   "metadata": {},
   "source": [
    "# Write .emdata file"
   ]
  },
  {
   "cell_type": "code",
   "execution_count": 165,
   "metadata": {
    "collapsed": true
   },
   "outputs": [],
   "source": [
    "with open(out_dir, 'w') as f:\n",
    "    f.write(str_out)"
   ]
  },
  {
   "cell_type": "code",
   "execution_count": null,
   "metadata": {
    "collapsed": true
   },
   "outputs": [],
   "source": []
  },
  {
   "cell_type": "code",
   "execution_count": null,
   "metadata": {
    "collapsed": true
   },
   "outputs": [],
   "source": []
  }
 ],
 "metadata": {
  "kernelspec": {
   "display_name": "Python 2",
   "language": "python",
   "name": "python2"
  },
  "language_info": {
   "codemirror_mode": {
    "name": "ipython",
    "version": 2
   },
   "file_extension": ".py",
   "mimetype": "text/x-python",
   "name": "python",
   "nbconvert_exporter": "python",
   "pygments_lexer": "ipython2",
   "version": "2.7.13"
  }
 },
 "nbformat": 4,
 "nbformat_minor": 2
}
